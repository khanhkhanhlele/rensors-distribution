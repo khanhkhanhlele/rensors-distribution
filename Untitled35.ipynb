{
  "nbformat": 4,
  "nbformat_minor": 0,
  "metadata": {
    "colab": {
      "name": "Untitled35.ipynb",
      "provenance": [],
      "authorship_tag": "ABX9TyN5crojCU4W3nmXef3BQPyT",
      "include_colab_link": true
    },
    "kernelspec": {
      "name": "python3",
      "display_name": "Python 3"
    },
    "language_info": {
      "name": "python"
    }
  },
  "cells": [
    {
      "cell_type": "markdown",
      "metadata": {
        "id": "view-in-github",
        "colab_type": "text"
      },
      "source": [
        "<a href=\"https://colab.research.google.com/github/khanhkhanhlele/rensors-distribution/blob/main/Untitled35.ipynb\" target=\"_parent\"><img src=\"https://colab.research.google.com/assets/colab-badge.svg\" alt=\"Open In Colab\"/></a>"
      ]
    },
    {
      "cell_type": "code",
      "source": [
        "!git clone https://github.com/khanhkhanhlele/rensors-distribution.git"
      ],
      "metadata": {
        "colab": {
          "base_uri": "https://localhost:8080/"
        },
        "id": "pKYjEqgkUxfj",
        "outputId": "dfd517dd-5ac6-4264-fa38-14ca632005e3"
      },
      "execution_count": null,
      "outputs": [
        {
          "output_type": "stream",
          "name": "stdout",
          "text": [
            "Cloning into 'rensors-distribution'...\n",
            "remote: Enumerating objects: 220, done.\u001b[K\n",
            "remote: Counting objects: 100% (220/220), done.\u001b[K\n",
            "remote: Compressing objects: 100% (135/135), done.\u001b[K\n",
            "remote: Total 220 (delta 109), reused 185 (delta 83), pack-reused 0\u001b[K\n",
            "Receiving objects: 100% (220/220), 7.19 MiB | 14.02 MiB/s, done.\n",
            "Resolving deltas: 100% (109/109), done.\n"
          ]
        }
      ]
    },
    {
      "cell_type": "code",
      "source": [
        "!ls"
      ],
      "metadata": {
        "colab": {
          "base_uri": "https://localhost:8080/"
        },
        "id": "Wlsq2t5gU41P",
        "outputId": "0938c571-e077-4669-d1f4-c23af45625ad"
      },
      "execution_count": null,
      "outputs": [
        {
          "output_type": "stream",
          "name": "stdout",
          "text": [
            "rensors-distribution  sample_data\n"
          ]
        }
      ]
    },
    {
      "cell_type": "code",
      "source": [
        "!pip install wntr"
      ],
      "metadata": {
        "colab": {
          "base_uri": "https://localhost:8080/"
        },
        "id": "tR7sSxK7U62u",
        "outputId": "29ceb363-fd98-40cc-876b-67f08531e404"
      },
      "execution_count": null,
      "outputs": [
        {
          "output_type": "stream",
          "name": "stdout",
          "text": [
            "Collecting wntr\n",
            "  Downloading wntr-0.4.1-py3-none-any.whl (4.4 MB)\n",
            "\u001b[K     |████████████████████████████████| 4.4 MB 5.2 MB/s \n",
            "\u001b[?25hRequirement already satisfied: scipy in /usr/local/lib/python3.7/dist-packages (from wntr) (1.4.1)\n",
            "Requirement already satisfied: networkx in /usr/local/lib/python3.7/dist-packages (from wntr) (2.6.3)\n",
            "Requirement already satisfied: matplotlib in /usr/local/lib/python3.7/dist-packages (from wntr) (3.2.2)\n",
            "Requirement already satisfied: pandas in /usr/local/lib/python3.7/dist-packages (from wntr) (1.3.5)\n",
            "Requirement already satisfied: numpy in /usr/local/lib/python3.7/dist-packages (from wntr) (1.21.6)\n",
            "Requirement already satisfied: python-dateutil>=2.1 in /usr/local/lib/python3.7/dist-packages (from matplotlib->wntr) (2.8.2)\n",
            "Requirement already satisfied: kiwisolver>=1.0.1 in /usr/local/lib/python3.7/dist-packages (from matplotlib->wntr) (1.4.2)\n",
            "Requirement already satisfied: cycler>=0.10 in /usr/local/lib/python3.7/dist-packages (from matplotlib->wntr) (0.11.0)\n",
            "Requirement already satisfied: pyparsing!=2.0.4,!=2.1.2,!=2.1.6,>=2.0.1 in /usr/local/lib/python3.7/dist-packages (from matplotlib->wntr) (3.0.8)\n",
            "Requirement already satisfied: typing-extensions in /usr/local/lib/python3.7/dist-packages (from kiwisolver>=1.0.1->matplotlib->wntr) (4.2.0)\n",
            "Requirement already satisfied: six>=1.5 in /usr/local/lib/python3.7/dist-packages (from python-dateutil>=2.1->matplotlib->wntr) (1.15.0)\n",
            "Requirement already satisfied: pytz>=2017.3 in /usr/local/lib/python3.7/dist-packages (from pandas->wntr) (2022.1)\n",
            "Installing collected packages: wntr\n",
            "Successfully installed wntr-0.4.1\n"
          ]
        }
      ]
    },
    {
      "cell_type": "code",
      "source": [
        "import numpy as np\n",
        "import pandas as pd\n",
        "import matplotlib.pylab as plt\n",
        "import wntr\n",
        "import os"
      ],
      "metadata": {
        "id": "Pv_USOKhVU3t"
      },
      "execution_count": null,
      "outputs": []
    },
    {
      "cell_type": "code",
      "source": [
        "path = \"rensors-distribution/data\"\n",
        "dir_list = os.listdir(path)"
      ],
      "metadata": {
        "id": "dSUWzybMVk6l"
      },
      "execution_count": 7,
      "outputs": []
    },
    {
      "cell_type": "code",
      "source": [
        "!git add ."
      ],
      "metadata": {
        "colab": {
          "base_uri": "https://localhost:8080/"
        },
        "id": "uQ3WZ1TQWMTF",
        "outputId": "5af0f9c4-1e20-405d-c4f0-89af8f876e55"
      },
      "execution_count": 11,
      "outputs": [
        {
          "output_type": "stream",
          "name": "stdout",
          "text": [
            "fatal: not a git repository (or any of the parent directories): .git\n"
          ]
        }
      ]
    },
    {
      "cell_type": "code",
      "source": [
        "dir_list"
      ],
      "metadata": {
        "colab": {
          "base_uri": "https://localhost:8080/"
        },
        "id": "-4fCj-qiWF9j",
        "outputId": "e4356ad9-4966-45ab-fb23-9700650b7edf"
      },
      "execution_count": 8,
      "outputs": [
        {
          "output_type": "execute_result",
          "data": {
            "text/plain": [
              "['9_Iglesias-Rey.inp',\n",
              " 'time_controls.inp',\n",
              " 'test101.inp',\n",
              " 'ky15.inp',\n",
              " 'PES.inp',\n",
              " '4_Alvisi.inp',\n",
              " 'NW_Model1.inp',\n",
              " 'conditional_controls_1.inp',\n",
              " 'TRN.inp',\n",
              " 'ky9.inp',\n",
              " 'nytun.inp',\n",
              " 'Net6_plus.inp',\n",
              " 'cv_controls.inp',\n",
              " '6_Bent.inp',\n",
              " 'ky1.inp',\n",
              " 'NET1emit.inp',\n",
              " 'Net3.inp',\n",
              " '7_KLmod.inp',\n",
              " 'ky5_Jolly2013.inp',\n",
              " 'wolf-modified-fig.inp',\n",
              " '2fcvs.inp',\n",
              " 'BIN.inp',\n",
              " 'mod_anytown-3.inp',\n",
              " 'io.inp',\n",
              " 'BAK.inp',\n",
              " 'gestar1.inp',\n",
              " 'ky13.inp',\n",
              " '6848-68nodes.inp',\n",
              " 'Extended Hanoi.inp',\n",
              " 'Net1.inp',\n",
              " 'Awumah_layout8.inp',\n",
              " 'exnet-exeter.inp',\n",
              " 'simpson_test.inp',\n",
              " 'wolf-3.inp',\n",
              " 'fcv-noflow.inp',\n",
              " 'BWSN_Network_1_temp.inp',\n",
              " '10_Guidolin.inp',\n",
              " 'Todini_Fig2_solA_CMH.inp',\n",
              " 'NET1para.inp',\n",
              " 'ky14.inp',\n",
              " 'JEP5-13.inp',\n",
              " 'ky7.inp',\n",
              " '14_Tolson.inp',\n",
              " 'TLN.inp',\n",
              " '4_ZJ.inp',\n",
              " '2PRVs.inp',\n",
              " 'anytown_temp.inp',\n",
              " '5_Balerma.inp',\n",
              " 'NPCL-1.inp',\n",
              " 'Tnet3.inp',\n",
              " 'House3_House_Age.inp',\n",
              " 'fcv.inp',\n",
              " 'epanet_leaks.inp',\n",
              " '2PRVs-aquis.inp',\n",
              " 'skeletonize.inp',\n",
              " 'Modified New York Tunnels including water quality.inp',\n",
              " '8_Yoo.inp',\n",
              " 'bocika-output.inp',\n",
              " 'EXN.inp',\n",
              " 'ky11.inp',\n",
              " 'House1_House_Age.inp',\n",
              " '1_Hanoi.inp',\n",
              " 'NET1-PBV.inp',\n",
              " 'Example_1.inp',\n",
              " '2Tanks.inp',\n",
              " 'example3.inp',\n",
              " 'anytown.inp',\n",
              " 'tank_controls_1.inp',\n",
              " 'exnet.inp',\n",
              " 'latin1.inp',\n",
              " '12_Kandiah.inp',\n",
              " 'filename.inp',\n",
              " 'leaks.inp',\n",
              " 'Hanoi.inp',\n",
              " 'exnet-3H.inp',\n",
              " 'psv_open_no_downstream_sources.inp',\n",
              " 'MICROPOLIS_v1.inp',\n",
              " 'hanoi-3.inp',\n",
              " 'Elhay-ZeroFlow.inp',\n",
              " 'Balerma.inp',\n",
              " 'NET1negemit.inp',\n",
              " 'simpson_test_2-12.inp',\n",
              " '3_Stokes.inp',\n",
              " 'Todini_Fig2_optCost_CMH.inp',\n",
              " 'ky4.inp',\n",
              " 'exnet-3Q.inp',\n",
              " 'wolf-initial-fig.inp',\n",
              " 'ky5.inp',\n",
              " 'st-net3-3.inp',\n",
              " 'gestar1mod.inp',\n",
              " 'MOD.inp',\n",
              " 'simplenet.inp',\n",
              " 'exnet-3.inp',\n",
              " 'net3-bio.inp',\n",
              " '5fcvs.inp',\n",
              " 'NET1cv.inp',\n",
              " 'tank_controls_2.inp',\n",
              " 'NET1np.inp',\n",
              " 'BELL_CL1.inp',\n",
              " '7_Matos.inp',\n",
              " 'FOS.inp',\n",
              " 'ky12.inp',\n",
              " 'GES4-9.inp',\n",
              " 'simulator.inp',\n",
              " 'ZJ.inp',\n",
              " 'ky10.inp',\n",
              " 'CCWI17-HermanMahmoud.inp',\n",
              " '5_Saldarriaga.inp',\n",
              " 'ky6.inp',\n",
              " 'NW_Model.inp',\n",
              " 'Net6.inp',\n",
              " 'gestar1modHW.inp',\n",
              " 'OBCL-1.inp',\n",
              " 'st-net3.inp',\n",
              " '11_Wang.inp',\n",
              " 'Richmond_skeleton.inp',\n",
              " 'Battle of the Calibration Networks System.inp',\n",
              " 'example.inp',\n",
              " 'wolf-output-fig.inp',\n",
              " 'Awumah_layout1.inp',\n",
              " 'Net2.inp',\n",
              " 'prv_closed_no_upstream_sources.inp',\n",
              " 'control_comb.inp',\n",
              " 'GOY.inp',\n",
              " 'ky3.inp',\n",
              " '1_Wu.inp',\n",
              " '2_Extended Hanoi.inp',\n",
              " '6_Rural.inp',\n",
              " 'House2_House_Age.inp',\n",
              " '2_Walski.inp',\n",
              " 'L-TOWN_v2_Model.inp',\n",
              " 'Todini_Fig2_solA_GPM.inp',\n",
              " 'example2.inp',\n",
              " 'CY_DMA.inp',\n",
              " '57460.inp',\n",
              " 'FFCL-1.inp',\n",
              " 'todinitest.inp',\n",
              " '2PRVs-a.inp',\n",
              " 'fcv_open_no_upstream_sources.inp',\n",
              " 'Net3_trace.inp',\n",
              " 'fcv_open_no_downstream_sources.inp',\n",
              " 'Todini_Fig2_optCost_GPM.inp',\n",
              " 'KL.inp',\n",
              " 'net2-cl2.inp',\n",
              " 'New York Tunnels including water quality.inp',\n",
              " 'NYT.inp',\n",
              " 'ky2.inp',\n",
              " 'NET1-3.inp',\n",
              " 'anytown-exeter.inp',\n",
              " 'temp.inp',\n",
              " 'Richmond_standard.inp',\n",
              " 'foss_poly_1.inp',\n",
              " 'BLA.inp',\n",
              " 'Net3-NH2CL.inp',\n",
              " 'batch-nh2cl.inp',\n",
              " 'ky8.inp',\n",
              " 'RuralNetwork.inp',\n",
              " 'sampletown.inp',\n",
              " 'conditional_controls_2.inp',\n",
              " 'HAN.inp',\n",
              " 'PacificCity.inp',\n",
              " 'Anytown_multipointcurves.inp',\n",
              " 'Hanoi_CMH.inp',\n",
              " 'd-town.inp',\n",
              " 'example1.inp',\n",
              " 'prv_open_no_upstream_sources.inp',\n",
              " 'Net1_temp.inp',\n",
              " 'BWSN_Network_2.inp',\n",
              " 'BWSN_Network_1.inp',\n",
              " 'noflow.inp',\n",
              " 'gessler1985.inp',\n",
              " '13_Morley.inp',\n",
              " 'test101-3.inp',\n",
              " 'hanoi-exeter.inp',\n",
              " 'fcv2.inp',\n",
              " 'times.inp',\n",
              " 'mod_anytown-3a.inp',\n",
              " 'Anytown(1).inp',\n",
              " 'anytown-3.inp',\n",
              " 'Jilin including water quality.inp',\n",
              " 'Example_2.inp']"
            ]
          },
          "metadata": {},
          "execution_count": 8
        }
      ]
    }
  ]
}